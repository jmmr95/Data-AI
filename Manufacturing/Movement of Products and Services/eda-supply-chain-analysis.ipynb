{
 "cells": [
  {
   "cell_type": "markdown",
   "id": "25d8f17a",
   "metadata": {
    "papermill": {
     "duration": 0.004648,
     "end_time": "2025-06-25T01:48:30.612493",
     "exception": false,
     "start_time": "2025-06-25T01:48:30.607845",
     "status": "completed"
    },
    "tags": []
   },
   "source": [
    "# Análisis Exploratorio de Datos - Supply Chain\n",
    "\n",
    "## Objetivo del análisis\n",
    "\n",
    "El objetivo principal de este análisis exploratorio es comprender el comportamiento de la cadena de suministro de una startup del sector de belleza y cosmética. A través de la exploración de datos, buscamos identificar patrones, oportunidades de mejora y posibles cuellos de botella en áreas como:\n",
    "\n",
    "- Tipos de productos y su rendimiento en ventas e ingresos.\n",
    "- Proveedores más eficientes en términos de calidad, costos y tiempos.\n",
    "- Rutas y modos de transporte que optimicen la logística.\n",
    "- Análisis de defectos y costos asociados.\n",
    "\n",
    "Este análisis servirá como base para decisiones estratégicas y desarrollo de soluciones analíticas futuras (modelado predictivo, dashboards, etc.).\n",
    "\n",
    "---\n",
    "\n",
    "## Breve descripción del dataset\n",
    "\n",
    "El conjunto de datos proviene de la cadena de suministro de una startup de maquillaje, con un total de **100 registros** y **24 columnas**, que representan información operacional clave. Las variables incluyen:\n",
    "\n",
    "- **Productos**: tipo, SKU, precio, disponibilidad y stock.\n",
    "- **Ventas**: número de unidades vendidas e ingresos generados.\n",
    "- **Cliente**: características demográficas.\n",
    "- **Proveedores**: nombre, ubicación, volumen de producción, costos y tiempos de fabricación.\n",
    "- **Logística**: tiempos de entrega, costos de envío, transportadoras, rutas y modos de transporte.\n",
    "- **Calidad**: resultados de inspección y tasas de defectos.\n",
    "\n",
    "El dataset es ideal para evaluar eficiencia logística, rendimiento comercial y control de calidad dentro del proceso de supply chain.\n",
    "\n",
    "---\n"
   ]
  },
  {
   "cell_type": "code",
   "execution_count": 1,
   "id": "1470d867",
   "metadata": {
    "execution": {
     "iopub.execute_input": "2025-06-25T01:48:30.625175Z",
     "iopub.status.busy": "2025-06-25T01:48:30.622786Z",
     "iopub.status.idle": "2025-06-25T01:48:32.481724Z",
     "shell.execute_reply": "2025-06-25T01:48:32.479332Z"
    },
    "papermill": {
     "duration": 1.86754,
     "end_time": "2025-06-25T01:48:32.484314",
     "exception": false,
     "start_time": "2025-06-25T01:48:30.616774",
     "status": "completed"
    },
    "tags": []
   },
   "outputs": [
    {
     "name": "stderr",
     "output_type": "stream",
     "text": [
      "── \u001b[1mAttaching core tidyverse packages\u001b[22m ──────────────────────── tidyverse 2.0.0 ──\n",
      "\u001b[32m✔\u001b[39m \u001b[34mdplyr    \u001b[39m 1.1.4     \u001b[32m✔\u001b[39m \u001b[34mreadr    \u001b[39m 2.1.5\n",
      "\u001b[32m✔\u001b[39m \u001b[34mforcats  \u001b[39m 1.0.0     \u001b[32m✔\u001b[39m \u001b[34mstringr  \u001b[39m 1.5.1\n",
      "\u001b[32m✔\u001b[39m \u001b[34mggplot2  \u001b[39m 3.5.1     \u001b[32m✔\u001b[39m \u001b[34mtibble   \u001b[39m 3.2.1\n",
      "\u001b[32m✔\u001b[39m \u001b[34mlubridate\u001b[39m 1.9.3     \u001b[32m✔\u001b[39m \u001b[34mtidyr    \u001b[39m 1.3.1\n",
      "\u001b[32m✔\u001b[39m \u001b[34mpurrr    \u001b[39m 1.0.2     \n"
     ]
    },
    {
     "name": "stderr",
     "output_type": "stream",
     "text": [
      "── \u001b[1mConflicts\u001b[22m ────────────────────────────────────────── tidyverse_conflicts() ──\n",
      "\u001b[31m✖\u001b[39m \u001b[34mdplyr\u001b[39m::\u001b[32mfilter()\u001b[39m masks \u001b[34mstats\u001b[39m::filter()\n",
      "\u001b[31m✖\u001b[39m \u001b[34mdplyr\u001b[39m::\u001b[32mlag()\u001b[39m    masks \u001b[34mstats\u001b[39m::lag()\n",
      "\u001b[36mℹ\u001b[39m Use the conflicted package (\u001b[3m\u001b[34m<http://conflicted.r-lib.org/>\u001b[39m\u001b[23m) to force all conflicts to become errors\n"
     ]
    },
    {
     "name": "stderr",
     "output_type": "stream",
     "text": [
      "\u001b[1mRows: \u001b[22m\u001b[34m100\u001b[39m \u001b[1mColumns: \u001b[22m\u001b[34m24\u001b[39m\n"
     ]
    },
    {
     "name": "stderr",
     "output_type": "stream",
     "text": [
      "\u001b[36m──\u001b[39m \u001b[1mColumn specification\u001b[22m \u001b[36m────────────────────────────────────────────────────────\u001b[39m\n",
      "\u001b[1mDelimiter:\u001b[22m \",\"\n",
      "\u001b[31mchr\u001b[39m  (9): Product type, SKU, Customer demographics, Shipping carriers, Suppl...\n",
      "\u001b[32mdbl\u001b[39m (15): Price, Availability, Number of products sold, Revenue generated, S...\n"
     ]
    },
    {
     "name": "stderr",
     "output_type": "stream",
     "text": [
      "\n",
      "\u001b[36mℹ\u001b[39m Use `spec()` to retrieve the full column specification for this data.\n",
      "\u001b[36mℹ\u001b[39m Specify the column types or set `show_col_types = FALSE` to quiet this message.\n"
     ]
    },
    {
     "name": "stdout",
     "output_type": "stream",
     "text": [
      "Rows: 100\n",
      "Columns: 24\n",
      "$ `Product type`            \u001b[3m\u001b[90m<chr>\u001b[39m\u001b[23m \"haircare\", \"skincare\", \"haircare\", \"skincar…\n",
      "$ SKU                       \u001b[3m\u001b[90m<chr>\u001b[39m\u001b[23m \"SKU0\", \"SKU1\", \"SKU2\", \"SKU3\", \"SKU4\", \"SKU…\n",
      "$ Price                     \u001b[3m\u001b[90m<dbl>\u001b[39m\u001b[23m 69.808006, 14.843523, 11.319683, 61.163343, …\n",
      "$ Availability              \u001b[3m\u001b[90m<dbl>\u001b[39m\u001b[23m 55, 95, 34, 68, 26, 87, 48, 59, 78, 35, 11, …\n",
      "$ `Number of products sold` \u001b[3m\u001b[90m<dbl>\u001b[39m\u001b[23m 802, 736, 8, 83, 871, 147, 65, 426, 150, 980…\n",
      "$ `Revenue generated`       \u001b[3m\u001b[90m<dbl>\u001b[39m\u001b[23m 8661.997, 7460.900, 9577.750, 7766.836, 2686…\n",
      "$ `Customer demographics`   \u001b[3m\u001b[90m<chr>\u001b[39m\u001b[23m \"Non-binary\", \"Female\", \"Unknown\", \"Non-bina…\n",
      "$ `Stock levels`            \u001b[3m\u001b[90m<dbl>\u001b[39m\u001b[23m 58, 53, 1, 23, 5, 90, 11, 93, 5, 14, 51, 46,…\n",
      "$ `Lead times`              \u001b[3m\u001b[90m<dbl>\u001b[39m\u001b[23m 7, 30, 10, 13, 3, 27, 15, 17, 10, 27, 13, 23…\n",
      "$ `Order quantities`        \u001b[3m\u001b[90m<dbl>\u001b[39m\u001b[23m 96, 37, 88, 59, 56, 66, 58, 11, 15, 83, 80, …\n",
      "$ `Shipping times`          \u001b[3m\u001b[90m<dbl>\u001b[39m\u001b[23m 4, 2, 2, 6, 8, 3, 8, 1, 7, 1, 2, 1, 4, 9, 5,…\n",
      "$ `Shipping carriers`       \u001b[3m\u001b[90m<chr>\u001b[39m\u001b[23m \"Carrier B\", \"Carrier A\", \"Carrier B\", \"Carr…\n",
      "$ `Shipping costs`          \u001b[3m\u001b[90m<dbl>\u001b[39m\u001b[23m 2.956572, 9.716575, 8.054479, 1.729569, 3.89…\n",
      "$ `Supplier name`           \u001b[3m\u001b[90m<chr>\u001b[39m\u001b[23m \"Supplier 3\", \"Supplier 3\", \"Supplier 1\", \"S…\n",
      "$ Location                  \u001b[3m\u001b[90m<chr>\u001b[39m\u001b[23m \"Mumbai\", \"Mumbai\", \"Mumbai\", \"Kolkata\", \"De…\n",
      "$ `Lead time`               \u001b[3m\u001b[90m<dbl>\u001b[39m\u001b[23m 29, 23, 12, 24, 5, 10, 14, 22, 13, 29, 18, 2…\n",
      "$ `Production volumes`      \u001b[3m\u001b[90m<dbl>\u001b[39m\u001b[23m 215, 517, 971, 937, 414, 104, 314, 564, 769,…\n",
      "$ `Manufacturing lead time` \u001b[3m\u001b[90m<dbl>\u001b[39m\u001b[23m 29, 30, 27, 18, 3, 17, 24, 1, 8, 23, 5, 11, …\n",
      "$ `Manufacturing costs`     \u001b[3m\u001b[90m<dbl>\u001b[39m\u001b[23m 46.279879, 33.616769, 30.688019, 35.624741, …\n",
      "$ `Inspection results`      \u001b[3m\u001b[90m<chr>\u001b[39m\u001b[23m \"Pending\", \"Pending\", \"Pending\", \"Fail\", \"Fa…\n",
      "$ `Defect rates`            \u001b[3m\u001b[90m<dbl>\u001b[39m\u001b[23m 0.22641036, 4.85406803, 4.58059262, 4.746648…\n",
      "$ `Transportation modes`    \u001b[3m\u001b[90m<chr>\u001b[39m\u001b[23m \"Road\", \"Road\", \"Air\", \"Rail\", \"Air\", \"Road\"…\n",
      "$ Routes                    \u001b[3m\u001b[90m<chr>\u001b[39m\u001b[23m \"Route B\", \"Route B\", \"Route C\", \"Route A\", …\n",
      "$ Costs                     \u001b[3m\u001b[90m<dbl>\u001b[39m\u001b[23m 187.7521, 503.0656, 141.9203, 254.7762, 923.…\n"
     ]
    }
   ],
   "source": [
    "# Cargar librerías\n",
    "library(tidyverse)\n",
    "\n",
    "#Leer el CSV\n",
    "df <- read_csv(\"/kaggle/input/supply-chain-analysis/supply_chain_data.csv\")\n",
    "\n",
    "#Ver la estructura del dataset\n",
    "glimpse(df)"
   ]
  },
  {
   "cell_type": "markdown",
   "id": "ac622c59",
   "metadata": {
    "papermill": {
     "duration": 0.004393,
     "end_time": "2025-06-25T01:48:32.493690",
     "exception": false,
     "start_time": "2025-06-25T01:48:32.489297",
     "status": "completed"
    },
    "tags": []
   },
   "source": [
    "Conclusiones sobre la estructura del dataset\n",
    "\n",
    "**Dimensiones**\n",
    "\n",
    "100 filas y 24 columnas → Es un dataset pequeño pero suficientemente completo para practicar EDA, visualización y modelos básicos.\n",
    "\n",
    "**Tipos de columnas**\n",
    "\n",
    "9 columnas tipo chr (texto) → Categorías como producto, ubicación, transportadora, etc.\n",
    "\n",
    "15 columnas tipo dbl (numérico) → Ideal para análisis estadístico y visualizaciones.\n",
    "\n",
    "**Posibles observaciones iniciales**\n",
    "\n",
    "Hay columnas duplicadas en concepto, como Lead times y Lead time (podríamos evaluar si son diferentes o si hay un error).\n",
    "\n",
    "La columna Customer demographics tiene categorías como \"Unknown\" y \"Non-binary\" → Revisaremos valores únicos más adelante.\n",
    "\n",
    "Inspection results tiene valores tipo \"Pending\", \"Fail\" → Buen candidato para análisis de calidad."
   ]
  },
  {
   "cell_type": "code",
   "execution_count": 2,
   "id": "e9f7bdfd",
   "metadata": {
    "execution": {
     "iopub.execute_input": "2025-06-25T01:48:32.544398Z",
     "iopub.status.busy": "2025-06-25T01:48:32.504202Z",
     "iopub.status.idle": "2025-06-25T01:48:32.576385Z",
     "shell.execute_reply": "2025-06-25T01:48:32.574587Z"
    },
    "papermill": {
     "duration": 0.080821,
     "end_time": "2025-06-25T01:48:32.578774",
     "exception": false,
     "start_time": "2025-06-25T01:48:32.497953",
     "status": "completed"
    },
    "tags": []
   },
   "outputs": [
    {
     "data": {
      "text/plain": [
       "     Price        Availability    Number of products sold Revenue generated\n",
       " Min.   : 1.70   Min.   :  1.00   Min.   :  8.0           Min.   :1062     \n",
       " 1st Qu.:19.60   1st Qu.: 22.75   1st Qu.:184.2           1st Qu.:2813     \n",
       " Median :51.24   Median : 43.50   Median :392.5           Median :6006     \n",
       " Mean   :49.46   Mean   : 48.40   Mean   :461.0           Mean   :5776     \n",
       " 3rd Qu.:77.20   3rd Qu.: 75.00   3rd Qu.:704.2           3rd Qu.:8254     \n",
       " Max.   :99.17   Max.   :100.00   Max.   :996.0           Max.   :9866     \n",
       "  Stock levels      Lead times    Order quantities Shipping times \n",
       " Min.   :  0.00   Min.   : 1.00   Min.   : 1.00    Min.   : 1.00  \n",
       " 1st Qu.: 16.75   1st Qu.: 8.00   1st Qu.:26.00    1st Qu.: 3.75  \n",
       " Median : 47.50   Median :17.00   Median :52.00    Median : 6.00  \n",
       " Mean   : 47.77   Mean   :15.96   Mean   :49.22    Mean   : 5.75  \n",
       " 3rd Qu.: 73.00   3rd Qu.:24.00   3rd Qu.:71.25    3rd Qu.: 8.00  \n",
       " Max.   :100.00   Max.   :30.00   Max.   :96.00    Max.   :10.00  \n",
       " Shipping costs    Lead time     Production volumes Manufacturing lead time\n",
       " Min.   :1.013   Min.   : 1.00   Min.   :104.0      Min.   : 1.00          \n",
       " 1st Qu.:3.540   1st Qu.:10.00   1st Qu.:352.0      1st Qu.: 7.00          \n",
       " Median :5.321   Median :18.00   Median :568.5      Median :14.00          \n",
       " Mean   :5.548   Mean   :17.08   Mean   :567.8      Mean   :14.77          \n",
       " 3rd Qu.:7.602   3rd Qu.:25.00   3rd Qu.:797.0      3rd Qu.:23.00          \n",
       " Max.   :9.930   Max.   :30.00   Max.   :985.0      Max.   :30.00          \n",
       " Manufacturing costs  Defect rates         Costs      \n",
       " Min.   : 1.085      Min.   :0.01861   Min.   :103.9  \n",
       " 1st Qu.:22.983      1st Qu.:1.00965   1st Qu.:318.8  \n",
       " Median :45.906      Median :2.14186   Median :520.4  \n",
       " Mean   :47.267      Mean   :2.27716   Mean   :529.2  \n",
       " 3rd Qu.:68.621      3rd Qu.:3.56399   3rd Qu.:763.1  \n",
       " Max.   :99.466      Max.   :4.93926   Max.   :997.4  "
      ]
     },
     "metadata": {},
     "output_type": "display_data"
    }
   ],
   "source": [
    "# Ver resumen estadístico de columnas numéricas\n",
    "summary(select(df, where(is.numeric)))"
   ]
  },
  {
   "cell_type": "markdown",
   "id": "5f0146ce",
   "metadata": {
    "papermill": {
     "duration": 0.004607,
     "end_time": "2025-06-25T01:48:32.587907",
     "exception": false,
     "start_time": "2025-06-25T01:48:32.583300",
     "status": "completed"
    },
    "tags": []
   },
   "source": [
    "**1. Precio (Price)**\n",
    "   \n",
    "Rango: 1.70 – 99.17\n",
    "\n",
    "Distribución aparentemente uniforme (Q1 ≈ 20, Q3 ≈ 77).\n",
    "\n",
    "Sin outliers evidentes, pero puede haber productos muy baratos o muy premium.\n",
    "\n",
    "**2. Disponibilidad (Availability) y niveles de stock (Stock levels)**\n",
    "\n",
    "Ambos van de 0 a 100, con medias cercanas a 50.\n",
    "\n",
    "Probablemente representan porcentajes o escalas normalizadas de inventario.\n",
    "\n",
    "**3. Ventas y ganancias**\n",
    "Number of products sold: 8 a 996 → Gran variabilidad en ventas.\n",
    "\n",
    "Revenue generated: $1,062 a $9,866 → Relacionado con ventas pero requiere verificar si se corresponde con Price * Number of products sold.\n",
    "\n",
    "Posible análisis futuro: ¿el ingreso realmente coincide con precio * cantidad?\n",
    "\n",
    "**4. Lead time y Shipping time**\n",
    "\n",
    "Ambas variables van de 1 a 30 días → permite comparar proveedores y transportadoras.\n",
    "\n",
    "**6. Manufactura y costos**\n",
    "   \n",
    "Manufacturing costs: 1 a 99 → Parece seguir el rango de precios.\n",
    "\n",
    "Costs: 103 a 997 → Esto puede incluir costos logísticos, operativos, etc.\n",
    "\n",
    "Defect rates: entre 0.02% y 4.9% → Relativamente bajo en general, buena calidad percibida."
   ]
  },
  {
   "cell_type": "code",
   "execution_count": 3,
   "id": "103b5e9c",
   "metadata": {
    "execution": {
     "iopub.execute_input": "2025-06-25T01:48:32.600335Z",
     "iopub.status.busy": "2025-06-25T01:48:32.598690Z",
     "iopub.status.idle": "2025-06-25T01:48:32.652296Z",
     "shell.execute_reply": "2025-06-25T01:48:32.650381Z"
    },
    "papermill": {
     "duration": 0.062615,
     "end_time": "2025-06-25T01:48:32.654884",
     "exception": false,
     "start_time": "2025-06-25T01:48:32.592269",
     "status": "completed"
    },
    "tags": []
   },
   "outputs": [
    {
     "data": {
      "text/html": [
       "<table class=\"dataframe\">\n",
       "<caption>A tibble: 1 × 9</caption>\n",
       "<thead>\n",
       "\t<tr><th scope=col>Product type</th><th scope=col>SKU</th><th scope=col>Customer demographics</th><th scope=col>Shipping carriers</th><th scope=col>Supplier name</th><th scope=col>Location</th><th scope=col>Inspection results</th><th scope=col>Transportation modes</th><th scope=col>Routes</th></tr>\n",
       "\t<tr><th scope=col>&lt;int&gt;</th><th scope=col>&lt;int&gt;</th><th scope=col>&lt;int&gt;</th><th scope=col>&lt;int&gt;</th><th scope=col>&lt;int&gt;</th><th scope=col>&lt;int&gt;</th><th scope=col>&lt;int&gt;</th><th scope=col>&lt;int&gt;</th><th scope=col>&lt;int&gt;</th></tr>\n",
       "</thead>\n",
       "<tbody>\n",
       "\t<tr><td>3</td><td>100</td><td>4</td><td>3</td><td>5</td><td>5</td><td>3</td><td>4</td><td>3</td></tr>\n",
       "</tbody>\n",
       "</table>\n"
      ],
      "text/latex": [
       "A tibble: 1 × 9\n",
       "\\begin{tabular}{lllllllll}\n",
       " Product type & SKU & Customer demographics & Shipping carriers & Supplier name & Location & Inspection results & Transportation modes & Routes\\\\\n",
       " <int> & <int> & <int> & <int> & <int> & <int> & <int> & <int> & <int>\\\\\n",
       "\\hline\n",
       "\t 3 & 100 & 4 & 3 & 5 & 5 & 3 & 4 & 3\\\\\n",
       "\\end{tabular}\n"
      ],
      "text/markdown": [
       "\n",
       "A tibble: 1 × 9\n",
       "\n",
       "| Product type &lt;int&gt; | SKU &lt;int&gt; | Customer demographics &lt;int&gt; | Shipping carriers &lt;int&gt; | Supplier name &lt;int&gt; | Location &lt;int&gt; | Inspection results &lt;int&gt; | Transportation modes &lt;int&gt; | Routes &lt;int&gt; |\n",
       "|---|---|---|---|---|---|---|---|---|\n",
       "| 3 | 100 | 4 | 3 | 5 | 5 | 3 | 4 | 3 |\n",
       "\n"
      ],
      "text/plain": [
       "  Product type SKU Customer demographics Shipping carriers Supplier name\n",
       "1 3            100 4                     3                 5            \n",
       "  Location Inspection results Transportation modes Routes\n",
       "1 5        3                  4                    3     "
      ]
     },
     "metadata": {},
     "output_type": "display_data"
    }
   ],
   "source": [
    "#Ver número de valores únicos por cada columna de texto\n",
    "df %>%\n",
    "  select(where(is.character)) %>%\n",
    "  summarise_all(~n_distinct(.))"
   ]
  },
  {
   "cell_type": "markdown",
   "id": "27a727d8",
   "metadata": {
    "papermill": {
     "duration": 0.004758,
     "end_time": "2025-06-25T01:48:32.664439",
     "exception": false,
     "start_time": "2025-06-25T01:48:32.659681",
     "status": "completed"
    },
    "tags": []
   },
   "source": [
    "| Columna                 | Valores únicos | Observación                                                                        |\n",
    "| ----------------------- | -------------- | ---------------------------------------------------------------------------------- |\n",
    "| `Product type`          | 3              | Correcto y manejable (p. ej. \"skincare\", \"haircare\", etc.)                         |\n",
    "| `SKU`                   | 100            | Cada fila representa un producto único. Es un identificador.                       |\n",
    "| `Customer demographics` | 4              | Hay diversidad, incluyendo posiblemente \"Male\", \"Female\", \"Non-binary\", \"Unknown\". |\n",
    "| `Shipping carriers`     | 3              | Pocas categorías, bueno para agrupar.                                              |\n",
    "| `Supplier name`         | 5              | Suficiente para comparar proveedores.                                              |\n",
    "| `Location`              | 5              | Puede representar ciudades o centros logísticos.                                   |\n",
    "| `Inspection results`    | 3              | Probablemente \"Pass\", \"Fail\", \"Pending\". Útil para calidad.                        |\n",
    "| `Transportation modes`  | 4              | Ej. \"Air\", \"Road\", \"Rail\", \"Sea\". Buena métrica logística.                         |\n",
    "| `Routes`                | 3              | Puede ser rutas fijas, útil para análisis de costos logísticos.                    |\n",
    "\n",
    "\n",
    "\n",
    "Las variables categóricas son manejables, no hay columnas con cientos de niveles (excepto SKU, que es un ID).\n",
    "\n",
    "Hay suficientes categorías para hacer agrupaciones y visualizaciones significativas.\n",
    "\n",
    "La columna Customer demographics será interesante para analizar el comportamiento de compra y segmentación.\n"
   ]
  },
  {
   "cell_type": "code",
   "execution_count": 4,
   "id": "a1f1cf7f",
   "metadata": {
    "execution": {
     "iopub.execute_input": "2025-06-25T01:48:32.677355Z",
     "iopub.status.busy": "2025-06-25T01:48:32.675722Z",
     "iopub.status.idle": "2025-06-25T01:48:32.694910Z",
     "shell.execute_reply": "2025-06-25T01:48:32.693141Z"
    },
    "papermill": {
     "duration": 0.028277,
     "end_time": "2025-06-25T01:48:32.697310",
     "exception": false,
     "start_time": "2025-06-25T01:48:32.669033",
     "status": "completed"
    },
    "tags": []
   },
   "outputs": [
    {
     "data": {
      "text/html": [
       "<style>\n",
       ".dl-inline {width: auto; margin:0; padding: 0}\n",
       ".dl-inline>dt, .dl-inline>dd {float: none; width: auto; display: inline-block}\n",
       ".dl-inline>dt::after {content: \":\\0020\"; padding-right: .5ex}\n",
       ".dl-inline>dt:not(:first-of-type) {padding-left: .5ex}\n",
       "</style><dl class=dl-inline><dt>Product type</dt><dd>0</dd><dt>SKU</dt><dd>0</dd><dt>Price</dt><dd>0</dd><dt>Availability</dt><dd>0</dd><dt>Number of products sold</dt><dd>0</dd><dt>Revenue generated</dt><dd>0</dd><dt>Customer demographics</dt><dd>0</dd><dt>Stock levels</dt><dd>0</dd><dt>Lead times</dt><dd>0</dd><dt>Order quantities</dt><dd>0</dd><dt>Shipping times</dt><dd>0</dd><dt>Shipping carriers</dt><dd>0</dd><dt>Shipping costs</dt><dd>0</dd><dt>Supplier name</dt><dd>0</dd><dt>Location</dt><dd>0</dd><dt>Lead time</dt><dd>0</dd><dt>Production volumes</dt><dd>0</dd><dt>Manufacturing lead time</dt><dd>0</dd><dt>Manufacturing costs</dt><dd>0</dd><dt>Inspection results</dt><dd>0</dd><dt>Defect rates</dt><dd>0</dd><dt>Transportation modes</dt><dd>0</dd><dt>Routes</dt><dd>0</dd><dt>Costs</dt><dd>0</dd></dl>\n"
      ],
      "text/latex": [
       "\\begin{description*}\n",
       "\\item[Product type] 0\n",
       "\\item[SKU] 0\n",
       "\\item[Price] 0\n",
       "\\item[Availability] 0\n",
       "\\item[Number of products sold] 0\n",
       "\\item[Revenue generated] 0\n",
       "\\item[Customer demographics] 0\n",
       "\\item[Stock levels] 0\n",
       "\\item[Lead times] 0\n",
       "\\item[Order quantities] 0\n",
       "\\item[Shipping times] 0\n",
       "\\item[Shipping carriers] 0\n",
       "\\item[Shipping costs] 0\n",
       "\\item[Supplier name] 0\n",
       "\\item[Location] 0\n",
       "\\item[Lead time] 0\n",
       "\\item[Production volumes] 0\n",
       "\\item[Manufacturing lead time] 0\n",
       "\\item[Manufacturing costs] 0\n",
       "\\item[Inspection results] 0\n",
       "\\item[Defect rates] 0\n",
       "\\item[Transportation modes] 0\n",
       "\\item[Routes] 0\n",
       "\\item[Costs] 0\n",
       "\\end{description*}\n"
      ],
      "text/markdown": [
       "Product type\n",
       ":   0SKU\n",
       ":   0Price\n",
       ":   0Availability\n",
       ":   0Number of products sold\n",
       ":   0Revenue generated\n",
       ":   0Customer demographics\n",
       ":   0Stock levels\n",
       ":   0Lead times\n",
       ":   0Order quantities\n",
       ":   0Shipping times\n",
       ":   0Shipping carriers\n",
       ":   0Shipping costs\n",
       ":   0Supplier name\n",
       ":   0Location\n",
       ":   0Lead time\n",
       ":   0Production volumes\n",
       ":   0Manufacturing lead time\n",
       ":   0Manufacturing costs\n",
       ":   0Inspection results\n",
       ":   0Defect rates\n",
       ":   0Transportation modes\n",
       ":   0Routes\n",
       ":   0Costs\n",
       ":   0\n",
       "\n"
      ],
      "text/plain": [
       "           Product type                     SKU                   Price \n",
       "                      0                       0                       0 \n",
       "           Availability Number of products sold       Revenue generated \n",
       "                      0                       0                       0 \n",
       "  Customer demographics            Stock levels              Lead times \n",
       "                      0                       0                       0 \n",
       "       Order quantities          Shipping times       Shipping carriers \n",
       "                      0                       0                       0 \n",
       "         Shipping costs           Supplier name                Location \n",
       "                      0                       0                       0 \n",
       "              Lead time      Production volumes Manufacturing lead time \n",
       "                      0                       0                       0 \n",
       "    Manufacturing costs      Inspection results            Defect rates \n",
       "                      0                       0                       0 \n",
       "   Transportation modes                  Routes                   Costs \n",
       "                      0                       0                       0 "
      ]
     },
     "metadata": {},
     "output_type": "display_data"
    }
   ],
   "source": [
    "#Revisar valores faltantes\n",
    "colSums(is.na(df))"
   ]
  },
  {
   "cell_type": "code",
   "execution_count": 5,
   "id": "7c03419f",
   "metadata": {
    "execution": {
     "iopub.execute_input": "2025-06-25T01:48:32.711399Z",
     "iopub.status.busy": "2025-06-25T01:48:32.709842Z",
     "iopub.status.idle": "2025-06-25T01:48:32.733001Z",
     "shell.execute_reply": "2025-06-25T01:48:32.731211Z"
    },
    "papermill": {
     "duration": 0.032707,
     "end_time": "2025-06-25T01:48:32.735357",
     "exception": false,
     "start_time": "2025-06-25T01:48:32.702650",
     "status": "completed"
    },
    "tags": []
   },
   "outputs": [
    {
     "data": {
      "text/html": [
       "1"
      ],
      "text/latex": [
       "1"
      ],
      "text/markdown": [
       "1"
      ],
      "text/plain": [
       "[1] 1"
      ]
     },
     "metadata": {},
     "output_type": "display_data"
    },
    {
     "data": {
      "text/html": [
       "100"
      ],
      "text/latex": [
       "100"
      ],
      "text/markdown": [
       "100"
      ],
      "text/plain": [
       "[1] 100"
      ]
     },
     "metadata": {},
     "output_type": "display_data"
    }
   ],
   "source": [
    "#Comparar columnas similares\n",
    "sum(df$`Lead times` == df$`Lead time`)  # Cuántos valores son iguales\n",
    "nrow(df)                                # Total de filas"
   ]
  },
  {
   "cell_type": "markdown",
   "id": "915e7b34",
   "metadata": {
    "papermill": {
     "duration": 0.005226,
     "end_time": "2025-06-25T01:48:32.745707",
     "exception": false,
     "start_time": "2025-06-25T01:48:32.740481",
     "status": "completed"
    },
    "tags": []
   },
   "source": [
    "Solo 1 de 100 registros tiene el mismo valor en Lead times y Lead time.\n",
    "\n",
    "Por tanto, NO son duplicadas: representan conceptos distintos aunque su nombre sea similar.\n",
    "\n",
    "Posiblemente:\n",
    "\n",
    "Lead times = tiempo desde el pedido hasta la entrega al cliente.\n",
    "\n",
    "Lead time = tiempo desde el proveedor hasta que el producto entra a inventario.\n",
    "\n",
    "Necesitaríamos la definición del negocio, pero por ahora las conservamos por separado."
   ]
  },
  {
   "cell_type": "code",
   "execution_count": 6,
   "id": "e20e333a",
   "metadata": {
    "execution": {
     "iopub.execute_input": "2025-06-25T01:48:32.759852Z",
     "iopub.status.busy": "2025-06-25T01:48:32.758175Z",
     "iopub.status.idle": "2025-06-25T01:48:33.171224Z",
     "shell.execute_reply": "2025-06-25T01:48:33.169298Z"
    },
    "papermill": {
     "duration": 0.424498,
     "end_time": "2025-06-25T01:48:33.175371",
     "exception": false,
     "start_time": "2025-06-25T01:48:32.750873",
     "status": "completed"
    },
    "tags": []
   },
   "outputs": [
    {
     "name": "stderr",
     "output_type": "stream",
     "text": [
      "corrplot 0.92 loaded\n",
      "\n"
     ]
    },
    {
     "data": {
      "image/png": "[encoded data removed]"
     },
     "metadata": {
      "image/png": {
       "height": 420,
       "width": 420
      }
     },
     "output_type": "display_data"
    }
   ],
   "source": [
    "# Mapa de calor con coeficientes numéricos\n",
    "library(corrplot)\n",
    "\n",
    "# Matriz de correlación\n",
    "num_data <- df %>% select(where(is.numeric))\n",
    "cor_matrix <- cor(num_data)\n",
    "\n",
    "# Visualización con coeficientes\n",
    "corrplot(cor_matrix, method = \"color\", type = \"upper\", \n",
    "         tl.col = \"black\", tl.cex = 0.8, number.cex = 0.7,\n",
    "         addCoef.col = \"black\")  # Añadir los coeficientes en negro\n"
   ]
  },
  {
   "cell_type": "markdown",
   "id": "75759f02",
   "metadata": {
    "papermill": {
     "duration": 0.008065,
     "end_time": "2025-06-25T01:48:33.191748",
     "exception": false,
     "start_time": "2025-06-25T01:48:33.183683",
     "status": "completed"
    },
    "tags": []
   },
   "source": [
    "Correlaciones a destacar por su implicación:\n",
    "\n",
    "Revenue generated vs. Manufacturing costs (-0.21): Esta es una correlación significativa que podría indicar que una mayor producción (que lleva a más ingresos) beneficia la eficiencia de costos de fabricación. Esto podría deberse a economías de escala o a procesos más optimizados.\n",
    "\n",
    "Observaciones Generales:\n",
    "\n",
    "Muchas de las correlaciones son relativamente débiles (valores cercanos a 0), lo que sugiere que no hay una relación lineal fuerte entre muchas de las variables.\n",
    "Las correlaciones de \"1\" (como \"Número de productos vendidos\" con \"Revenue generado\" y \"Manufacturing costs\" con \"Costs\") son probablemente el resultado de cómo se definen o calculan estas variables en este conjunto de datos, más que una correlación causal independiente.\n",
    "El mapa ofrece una buena visión general para identificar posibles relaciones y áreas para una investigación más profunda. Por ejemplo, la relación entre \"Revenue generated\" y \"Manufacturing costs\" podría ser un área interesante para optimizar."
   ]
  },
  {
   "cell_type": "code",
   "execution_count": 7,
   "id": "b464db33",
   "metadata": {
    "execution": {
     "iopub.execute_input": "2025-06-25T01:48:33.235088Z",
     "iopub.status.busy": "2025-06-25T01:48:33.233387Z",
     "iopub.status.idle": "2025-06-25T01:48:33.737529Z",
     "shell.execute_reply": "2025-06-25T01:48:33.734480Z"
    },
    "papermill": {
     "duration": 0.540957,
     "end_time": "2025-06-25T01:48:33.740818",
     "exception": false,
     "start_time": "2025-06-25T01:48:33.199861",
     "status": "completed"
    },
    "tags": []
   },
   "outputs": [
    {
     "data": {
      "image/png": "[encoded data removed]"
     },
     "metadata": {
      "image/png": {
       "height": 420,
       "width": 420
      }
     },
     "output_type": "display_data"
    }
   ],
   "source": [
    "#Agrupación por tipo de producto\n",
    "df %>%\n",
    "  group_by(`Product type`) %>%\n",
    "  summarise(\n",
    "    total_sold = sum(`Number of products sold`),\n",
    "    total_revenue = sum(`Revenue generated`)\n",
    "  ) %>%\n",
    "  pivot_longer(cols = c(total_sold, total_revenue), names_to = \"metric\", values_to = \"value\") %>%\n",
    "  ggplot(aes(x = `Product type`, y = value, fill = metric)) +\n",
    "  geom_col(position = \"dodge\") +\n",
    "  labs(title = \"Ventas y Revenue por Tipo de Producto\", y = \"Valor\", x = \"Tipo de Producto\") +\n",
    "  theme_minimal()\n"
   ]
  },
  {
   "cell_type": "code",
   "execution_count": 8,
   "id": "408a8f5c",
   "metadata": {
    "execution": {
     "iopub.execute_input": "2025-06-25T01:48:33.763337Z",
     "iopub.status.busy": "2025-06-25T01:48:33.761699Z",
     "iopub.status.idle": "2025-06-25T01:48:33.809932Z",
     "shell.execute_reply": "2025-06-25T01:48:33.807326Z"
    },
    "papermill": {
     "duration": 0.070414,
     "end_time": "2025-06-25T01:48:33.820181",
     "exception": false,
     "start_time": "2025-06-25T01:48:33.749767",
     "status": "completed"
    },
    "tags": []
   },
   "outputs": [
    {
     "data": {
      "text/html": [
       "<table class=\"dataframe\">\n",
       "<caption>A tibble: 5 × 6</caption>\n",
       "<thead>\n",
       "\t<tr><th scope=col>Supplier name</th><th scope=col>productos_vendidos</th><th scope=col>ingresos_generados</th><th scope=col>tasa_defectos_prom</th><th scope=col>costo_promedio</th><th scope=col>tiempo_prom_lead</th></tr>\n",
       "\t<tr><th scope=col>&lt;chr&gt;</th><th scope=col>&lt;dbl&gt;</th><th scope=col>&lt;dbl&gt;</th><th scope=col>&lt;dbl&gt;</th><th scope=col>&lt;dbl&gt;</th><th scope=col>&lt;dbl&gt;</th></tr>\n",
       "</thead>\n",
       "<tbody>\n",
       "\t<tr><td>Supplier 1</td><td>11080</td><td>157529.00</td><td>1.803630</td><td>574.8511</td><td>14.77778</td></tr>\n",
       "\t<tr><td>Supplier 2</td><td>11068</td><td>125467.42</td><td>2.362750</td><td>515.0272</td><td>18.54545</td></tr>\n",
       "\t<tr><td>Supplier 5</td><td> 8662</td><td>110343.46</td><td>2.665408</td><td>536.0227</td><td>18.05556</td></tr>\n",
       "\t<tr><td>Supplier 3</td><td> 8083</td><td> 97795.98</td><td>2.465786</td><td>468.8001</td><td>20.13333</td></tr>\n",
       "\t<tr><td>Supplier 4</td><td> 7206</td><td> 86468.96</td><td>2.337397</td><td>521.8104</td><td>15.22222</td></tr>\n",
       "</tbody>\n",
       "</table>\n"
      ],
      "text/latex": [
       "A tibble: 5 × 6\n",
       "\\begin{tabular}{llllll}\n",
       " Supplier name & productos\\_vendidos & ingresos\\_generados & tasa\\_defectos\\_prom & costo\\_promedio & tiempo\\_prom\\_lead\\\\\n",
       " <chr> & <dbl> & <dbl> & <dbl> & <dbl> & <dbl>\\\\\n",
       "\\hline\n",
       "\t Supplier 1 & 11080 & 157529.00 & 1.803630 & 574.8511 & 14.77778\\\\\n",
       "\t Supplier 2 & 11068 & 125467.42 & 2.362750 & 515.0272 & 18.54545\\\\\n",
       "\t Supplier 5 &  8662 & 110343.46 & 2.665408 & 536.0227 & 18.05556\\\\\n",
       "\t Supplier 3 &  8083 &  97795.98 & 2.465786 & 468.8001 & 20.13333\\\\\n",
       "\t Supplier 4 &  7206 &  86468.96 & 2.337397 & 521.8104 & 15.22222\\\\\n",
       "\\end{tabular}\n"
      ],
      "text/markdown": [
       "\n",
       "A tibble: 5 × 6\n",
       "\n",
       "| Supplier name &lt;chr&gt; | productos_vendidos &lt;dbl&gt; | ingresos_generados &lt;dbl&gt; | tasa_defectos_prom &lt;dbl&gt; | costo_promedio &lt;dbl&gt; | tiempo_prom_lead &lt;dbl&gt; |\n",
       "|---|---|---|---|---|---|\n",
       "| Supplier 1 | 11080 | 157529.00 | 1.803630 | 574.8511 | 14.77778 |\n",
       "| Supplier 2 | 11068 | 125467.42 | 2.362750 | 515.0272 | 18.54545 |\n",
       "| Supplier 5 |  8662 | 110343.46 | 2.665408 | 536.0227 | 18.05556 |\n",
       "| Supplier 3 |  8083 |  97795.98 | 2.465786 | 468.8001 | 20.13333 |\n",
       "| Supplier 4 |  7206 |  86468.96 | 2.337397 | 521.8104 | 15.22222 |\n",
       "\n"
      ],
      "text/plain": [
       "  Supplier name productos_vendidos ingresos_generados tasa_defectos_prom\n",
       "1 Supplier 1    11080              157529.00          1.803630          \n",
       "2 Supplier 2    11068              125467.42          2.362750          \n",
       "3 Supplier 5     8662              110343.46          2.665408          \n",
       "4 Supplier 3     8083               97795.98          2.465786          \n",
       "5 Supplier 4     7206               86468.96          2.337397          \n",
       "  costo_promedio tiempo_prom_lead\n",
       "1 574.8511       14.77778        \n",
       "2 515.0272       18.54545        \n",
       "3 536.0227       18.05556        \n",
       "4 468.8001       20.13333        \n",
       "5 521.8104       15.22222        "
      ]
     },
     "metadata": {},
     "output_type": "display_data"
    }
   ],
   "source": [
    "#KPIs por proveedor\n",
    "df %>%\n",
    "  group_by(`Supplier name`) %>%\n",
    "  summarise(\n",
    "    productos_vendidos = sum(`Number of products sold`),\n",
    "    ingresos_generados = sum(`Revenue generated`),\n",
    "    tasa_defectos_prom = mean(`Defect rates`),\n",
    "    costo_promedio = mean(Costs),\n",
    "    tiempo_prom_lead = mean(`Lead time`)\n",
    "  ) %>%\n",
    "  arrange(desc(ingresos_generados))"
   ]
  },
  {
   "cell_type": "markdown",
   "id": "769e47be",
   "metadata": {
    "papermill": {
     "duration": 0.009284,
     "end_time": "2025-06-25T01:48:33.839436",
     "exception": false,
     "start_time": "2025-06-25T01:48:33.830152",
     "status": "completed"
    },
    "tags": []
   },
   "source": [
    "**Mejor proveedor general: Supplier 1**\n",
    "\n",
    "Mayor volumen de productos vendidos.\n",
    "\n",
    "Mayor ingreso generado.\n",
    "\n",
    "Menor tasa de defectos → 1.80%.\n",
    "\n",
    "Lead time aceptable (14.78 días).\n",
    "\n",
    "Costo promedio algo elevado, pero justificado por calidad y volumen.\n",
    "\n",
    "**Proveedor más costoso sin justificar: Supplier 5**\n",
    "\n",
    "Peor tasa de defectos (2.67%).\n",
    "\n",
    "Costos intermedios.\n",
    "\n",
    "Tiempo de entrega alto.\n",
    "\n",
    "No destaca en nada positivo → Podría evaluarse un cambio o mejora.\n",
    "\n",
    "**Proveedor más económico: Supplier 3**\n",
    "\n",
    "Costo promedio más bajo ($468.80).\n",
    "\n",
    "Pero: menor ingreso, alto lead time, defectos moderados.\n",
    "\n",
    "Útil si se quiere optimizar costos, pero no ideal si el tiempo de entrega es crítico.\n",
    "\n",
    "**Decisión de negocio (simulada)**\n",
    "\n",
    "Si la empresa busca optimizar calidad y rentabilidad, Supplier 1 es claramente el proveedor preferido.\n",
    "\n",
    "Si se quisiera reducir costos, podría considerarse Supplier 3, pero debería mejorar su tiempo de entrega."
   ]
  },
  {
   "cell_type": "code",
   "execution_count": 9,
   "id": "8050ec9a",
   "metadata": {
    "execution": {
     "iopub.execute_input": "2025-06-25T01:48:33.862886Z",
     "iopub.status.busy": "2025-06-25T01:48:33.861262Z",
     "iopub.status.idle": "2025-06-25T01:48:33.906308Z",
     "shell.execute_reply": "2025-06-25T01:48:33.903766Z"
    },
    "papermill": {
     "duration": 0.06047,
     "end_time": "2025-06-25T01:48:33.909607",
     "exception": false,
     "start_time": "2025-06-25T01:48:33.849137",
     "status": "completed"
    },
    "tags": []
   },
   "outputs": [
    {
     "data": {
      "text/html": [
       "<table class=\"dataframe\">\n",
       "<caption>A tibble: 3 × 6</caption>\n",
       "<thead>\n",
       "\t<tr><th scope=col>Routes</th><th scope=col>total_envios</th><th scope=col>productos_vendidos</th><th scope=col>ingresos</th><th scope=col>tasa_defectos</th><th scope=col>costo_promedio</th></tr>\n",
       "\t<tr><th scope=col>&lt;chr&gt;</th><th scope=col>&lt;int&gt;</th><th scope=col>&lt;dbl&gt;</th><th scope=col>&lt;dbl&gt;</th><th scope=col>&lt;dbl&gt;</th><th scope=col>&lt;dbl&gt;</th></tr>\n",
       "</thead>\n",
       "<tbody>\n",
       "\t<tr><td>Route A</td><td>43</td><td>19778</td><td>253198.9</td><td>2.341795</td><td>485.4831</td></tr>\n",
       "\t<tr><td>Route B</td><td>37</td><td>18370</td><td>204484.0</td><td>2.322165</td><td>595.6590</td></tr>\n",
       "\t<tr><td>Route C</td><td>20</td><td> 7951</td><td>119922.0</td><td>2.054925</td><td>500.4710</td></tr>\n",
       "</tbody>\n",
       "</table>\n"
      ],
      "text/latex": [
       "A tibble: 3 × 6\n",
       "\\begin{tabular}{llllll}\n",
       " Routes & total\\_envios & productos\\_vendidos & ingresos & tasa\\_defectos & costo\\_promedio\\\\\n",
       " <chr> & <int> & <dbl> & <dbl> & <dbl> & <dbl>\\\\\n",
       "\\hline\n",
       "\t Route A & 43 & 19778 & 253198.9 & 2.341795 & 485.4831\\\\\n",
       "\t Route B & 37 & 18370 & 204484.0 & 2.322165 & 595.6590\\\\\n",
       "\t Route C & 20 &  7951 & 119922.0 & 2.054925 & 500.4710\\\\\n",
       "\\end{tabular}\n"
      ],
      "text/markdown": [
       "\n",
       "A tibble: 3 × 6\n",
       "\n",
       "| Routes &lt;chr&gt; | total_envios &lt;int&gt; | productos_vendidos &lt;dbl&gt; | ingresos &lt;dbl&gt; | tasa_defectos &lt;dbl&gt; | costo_promedio &lt;dbl&gt; |\n",
       "|---|---|---|---|---|---|\n",
       "| Route A | 43 | 19778 | 253198.9 | 2.341795 | 485.4831 |\n",
       "| Route B | 37 | 18370 | 204484.0 | 2.322165 | 595.6590 |\n",
       "| Route C | 20 |  7951 | 119922.0 | 2.054925 | 500.4710 |\n",
       "\n"
      ],
      "text/plain": [
       "  Routes  total_envios productos_vendidos ingresos tasa_defectos costo_promedio\n",
       "1 Route A 43           19778              253198.9 2.341795      485.4831      \n",
       "2 Route B 37           18370              204484.0 2.322165      595.6590      \n",
       "3 Route C 20            7951              119922.0 2.054925      500.4710      "
      ]
     },
     "metadata": {},
     "output_type": "display_data"
    }
   ],
   "source": [
    "#Análisis por ruta de transporte\n",
    "df %>%\n",
    "  group_by(Routes) %>%\n",
    "  summarise(\n",
    "    total_envios = n(),\n",
    "    productos_vendidos = sum(`Number of products sold`),\n",
    "    ingresos = sum(`Revenue generated`),\n",
    "    tasa_defectos = mean(`Defect rates`),\n",
    "    costo_promedio = mean(Costs)\n",
    "  ) %>%\n",
    "  arrange(desc(ingresos))"
   ]
  },
  {
   "cell_type": "markdown",
   "id": "8c6286a5",
   "metadata": {
    "papermill": {
     "duration": 0.009554,
     "end_time": "2025-06-25T01:48:33.928480",
     "exception": false,
     "start_time": "2025-06-25T01:48:33.918926",
     "status": "completed"
    },
    "tags": []
   },
   "source": [
    "**Ruta más rentable: Route A**\n",
    "\n",
    "Mayor número de productos enviados y mayor ingreso generado.\n",
    "\n",
    "Buena tasa de defectos (promedio).\n",
    "\n",
    "Costo moderado → $485.48 por envío.\n",
    "\n",
    "**Ruta más costosa: Route B**\n",
    "\n",
    "Costo promedio más alto → $595.66 por envío.\n",
    "\n",
    "Ingreso e impacto menores que Ruta A.\n",
    "\n",
    "No se justifica a menos que tenga ventajas no reflejadas (ej. menor tiempo).\n",
    "\n",
    "**Ruta con mejor calidad: Route C**\n",
    "\n",
    "Menor tasa de defectos: 2.05%.\n",
    "\n",
    "Menor cantidad de envíos e ingresos → posiblemente ruta secundaria o menos utilizada.\n",
    "\n",
    "Podría ampliarse si se prioriza calidad.\n",
    "\n",
    "\n",
    "**Insight estratégico (simulado)**\n",
    "\n",
    "Si la empresa busca maximizar utilidad, Route A es la mejor opción.\n",
    "\n",
    "Si se desea priorizar calidad del producto entregado, Route C debería ser evaluada para expansión, siempre que su cobertura lo permita.\n",
    "\n",
    "Route B, en cambio, tiene el peor costo-beneficio: menor ingreso que A y mayor costo que todas → podría optimizarse o reemplazarse."
   ]
  },
  {
   "cell_type": "code",
   "execution_count": 10,
   "id": "0fbded9b",
   "metadata": {
    "execution": {
     "iopub.execute_input": "2025-06-25T01:48:33.951291Z",
     "iopub.status.busy": "2025-06-25T01:48:33.949419Z",
     "iopub.status.idle": "2025-06-25T01:48:33.994145Z",
     "shell.execute_reply": "2025-06-25T01:48:33.991681Z"
    },
    "papermill": {
     "duration": 0.059648,
     "end_time": "2025-06-25T01:48:33.997441",
     "exception": false,
     "start_time": "2025-06-25T01:48:33.937793",
     "status": "completed"
    },
    "tags": []
   },
   "outputs": [
    {
     "data": {
      "text/html": [
       "<table class=\"dataframe\">\n",
       "<caption>A tibble: 4 × 6</caption>\n",
       "<thead>\n",
       "\t<tr><th scope=col>Transportation modes</th><th scope=col>total_envios</th><th scope=col>productos_vendidos</th><th scope=col>ingresos</th><th scope=col>tasa_defectos</th><th scope=col>costo_promedio</th></tr>\n",
       "\t<tr><th scope=col>&lt;chr&gt;</th><th scope=col>&lt;int&gt;</th><th scope=col>&lt;dbl&gt;</th><th scope=col>&lt;dbl&gt;</th><th scope=col>&lt;dbl&gt;</th><th scope=col>&lt;dbl&gt;</th></tr>\n",
       "</thead>\n",
       "<tbody>\n",
       "\t<tr><td>Rail</td><td>28</td><td>13493</td><td>164990.42</td><td>2.318814</td><td>541.7476</td></tr>\n",
       "\t<tr><td>Road</td><td>29</td><td>13120</td><td>159315.23</td><td>2.620938</td><td>553.3860</td></tr>\n",
       "\t<tr><td>Air </td><td>26</td><td>10882</td><td>155735.35</td><td>1.823924</td><td>561.7126</td></tr>\n",
       "\t<tr><td>Sea </td><td>17</td><td> 8604</td><td> 97563.82</td><td>2.315281</td><td>417.8191</td></tr>\n",
       "</tbody>\n",
       "</table>\n"
      ],
      "text/latex": [
       "A tibble: 4 × 6\n",
       "\\begin{tabular}{llllll}\n",
       " Transportation modes & total\\_envios & productos\\_vendidos & ingresos & tasa\\_defectos & costo\\_promedio\\\\\n",
       " <chr> & <int> & <dbl> & <dbl> & <dbl> & <dbl>\\\\\n",
       "\\hline\n",
       "\t Rail & 28 & 13493 & 164990.42 & 2.318814 & 541.7476\\\\\n",
       "\t Road & 29 & 13120 & 159315.23 & 2.620938 & 553.3860\\\\\n",
       "\t Air  & 26 & 10882 & 155735.35 & 1.823924 & 561.7126\\\\\n",
       "\t Sea  & 17 &  8604 &  97563.82 & 2.315281 & 417.8191\\\\\n",
       "\\end{tabular}\n"
      ],
      "text/markdown": [
       "\n",
       "A tibble: 4 × 6\n",
       "\n",
       "| Transportation modes &lt;chr&gt; | total_envios &lt;int&gt; | productos_vendidos &lt;dbl&gt; | ingresos &lt;dbl&gt; | tasa_defectos &lt;dbl&gt; | costo_promedio &lt;dbl&gt; |\n",
       "|---|---|---|---|---|---|\n",
       "| Rail | 28 | 13493 | 164990.42 | 2.318814 | 541.7476 |\n",
       "| Road | 29 | 13120 | 159315.23 | 2.620938 | 553.3860 |\n",
       "| Air  | 26 | 10882 | 155735.35 | 1.823924 | 561.7126 |\n",
       "| Sea  | 17 |  8604 |  97563.82 | 2.315281 | 417.8191 |\n",
       "\n"
      ],
      "text/plain": [
       "  Transportation modes total_envios productos_vendidos ingresos  tasa_defectos\n",
       "1 Rail                 28           13493              164990.42 2.318814     \n",
       "2 Road                 29           13120              159315.23 2.620938     \n",
       "3 Air                  26           10882              155735.35 1.823924     \n",
       "4 Sea                  17            8604               97563.82 2.315281     \n",
       "  costo_promedio\n",
       "1 541.7476      \n",
       "2 553.3860      \n",
       "3 561.7126      \n",
       "4 417.8191      "
      ]
     },
     "metadata": {},
     "output_type": "display_data"
    }
   ],
   "source": [
    "#Análisis por modo de transporte\n",
    "df %>%\n",
    "  group_by(`Transportation modes`) %>%\n",
    "  summarise(\n",
    "    total_envios = n(),\n",
    "    productos_vendidos = sum(`Number of products sold`),\n",
    "    ingresos = sum(`Revenue generated`),\n",
    "    tasa_defectos = mean(`Defect rates`),\n",
    "    costo_promedio = mean(Costs)\n",
    "  ) %>%\n",
    "  arrange(desc(ingresos))"
   ]
  },
  {
   "cell_type": "markdown",
   "id": "691347c5",
   "metadata": {
    "papermill": {
     "duration": 0.009881,
     "end_time": "2025-06-25T01:48:34.017048",
     "exception": false,
     "start_time": "2025-06-25T01:48:34.007167",
     "status": "completed"
    },
    "tags": []
   },
   "source": [
    "**AIR: Mejor calidad**\n",
    "\n",
    "Tasa de defectos más baja → 1.82%\n",
    "\n",
    "Alto ingreso con menos productos → Posiblemente productos premium o urgente.\n",
    "\n",
    "Costo más alto → $561.71 por envío\n",
    "\n",
    "Ideal cuando se requiere velocidad y calidad, aunque es costoso.\n",
    "\n",
    "**SEA: Transporte más económico**\n",
    "\n",
    "Costo más bajo → $417.82\n",
    "\n",
    "Menor volumen y ganancias → Ruta menos usada o de baja prioridad\n",
    "\n",
    "Calidad promedio\n",
    "\n",
    "Bueno para productos no urgentes y reducción de costos.\n",
    "\n",
    "**RAIL: Mejor balance general**\n",
    "\n",
    "Mayor ingreso total → $164,990\n",
    "\n",
    "Segundo mejor en volumen\n",
    "\n",
    "Defectos y costos moderados\n",
    "\n",
    "El más eficiente en términos de ingreso por costo.\n",
    "\n",
    "**ROAD: Menor desempeño**\n",
    "\n",
    "Mayor tasa de defectos → 2.62%\n",
    "\n",
    "Costo relativamente alto ($553.39)\n",
    "\n",
    "Ingreso inferior a Rail y Air\n",
    "\n",
    "Este modo parece el menos eficiente. Puede ser foco de mejoras logísticas.\n",
    "\n",
    "**Recomendacion:**\n",
    "\n",
    "Priorizar Rail si el objetivo es balancear costo e ingreso.\n",
    "\n",
    "Air si se necesita rapidez y calidad, pero aceptando el costo.\n",
    "\n",
    "Revisar Road para reducir defectos y optimizar uso.\n",
    "\n",
    "Usar Sea para cargas grandes no urgentes con enfoque en economía."
   ]
  }
 ],
 "metadata": {
  "kaggle": {
   "accelerator": "none",
   "dataSources": [
    {
     "datasetId": 3169086,
     "sourceId": 5490896,
     "sourceType": "datasetVersion"
    }
   ],
   "dockerImageVersionId": 30749,
   "isGpuEnabled": false,
   "isInternetEnabled": true,
   "language": "r",
   "sourceType": "notebook"
  },
  "kernelspec": {
   "display_name": "R",
   "language": "R",
   "name": "ir"
  },
  "language_info": {
   "codemirror_mode": "r",
   "file_extension": ".r",
   "mimetype": "text/x-r-source",
   "name": "R",
   "pygments_lexer": "r",
   "version": "4.4.0"
  },
  "papermill": {
   "default_parameters": {},
   "duration": 7.442233,
   "end_time": "2025-06-25T01:48:34.150200",
   "environment_variables": {},
   "exception": null,
   "input_path": "__notebook__.ipynb",
   "output_path": "__notebook__.ipynb",
   "parameters": {},
   "start_time": "2025-06-25T01:48:26.707967",
   "version": "2.6.0"
  }
 },
 "nbformat": 4,
 "nbformat_minor": 5
}
